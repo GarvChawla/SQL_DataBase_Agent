{
 "cells": [
  {
   "cell_type": "code",
   "execution_count": null,
   "id": "095aa549",
   "metadata": {},
   "outputs": [],
   "source": [
    "import sqlite3"
   ]
  },
  {
   "cell_type": "code",
   "execution_count": 3,
   "id": "efb325d6",
   "metadata": {},
   "outputs": [],
   "source": [
    "connection = sqlite3.connect(\"Agentic_AI.db\")"
   ]
  },
  {
   "cell_type": "code",
   "execution_count": 4,
   "id": "712e8001",
   "metadata": {},
   "outputs": [
    {
     "data": {
      "text/plain": [
       "<sqlite3.Connection at 0x1ea2f366020>"
      ]
     },
     "execution_count": 4,
     "metadata": {},
     "output_type": "execute_result"
    }
   ],
   "source": [
    "connection"
   ]
  },
  {
   "cell_type": "code",
   "execution_count": 5,
   "id": "0b653773",
   "metadata": {},
   "outputs": [],
   "source": [
    "\n",
    "table_creation_query=\"\"\"\n",
    "CREATE TABLE IF NOT EXISTS employees (\n",
    "    emp_id INTEGER PRIMARY KEY,\n",
    "    first_name TEXT NOT NULL,\n",
    "    last_name TEXT NOT NULL,\n",
    "    email TEXT UNIQUE NOT NULL,\n",
    "    hire_date TEXT NOT NULL,\n",
    "    salary REAL NOT NULL\n",
    ");\n",
    "\"\"\""
   ]
  },
  {
   "cell_type": "code",
   "execution_count": null,
   "id": "90d84a8b",
   "metadata": {},
   "outputs": [],
   "source": [
    "table_creation_query2=\"\"\"\n",
    "CREATE TABLE IF NOT EXISTS customers (\n",
    "    customer_id INTEGER PRIMARY KEY AUTOINCREMENT,\n",
    "    first_name TEXT NOT NULL,\n",
    "    last_name TEXT NOT NULL,\n",
    "    email TEXT UNIQUE NOT NULL,\n",
    "    phone TEXT\n",
    ");\n",
    "\"\"\"\n"
   ]
  },
  {
   "cell_type": "code",
   "execution_count": 7,
   "id": "133e1d33",
   "metadata": {},
   "outputs": [],
   "source": [
    "\n",
    "table_creation_query3=\"\"\"\n",
    "CREATE TABLE IF NOT EXISTS orders (\n",
    "    order_id INTEGER PRIMARY KEY AUTOINCREMENT,\n",
    "    customer_id INTEGER NOT NULL,\n",
    "    order_date TEXT NOT NULL,\n",
    "    amount REAL NOT NULL,\n",
    "    FOREIGN KEY (customer_id) REFERENCES customers (customer_id)\n",
    ");\n",
    "\"\"\""
   ]
  },
  {
   "cell_type": "code",
   "execution_count": 8,
   "id": "f855de77",
   "metadata": {},
   "outputs": [],
   "source": [
    "cursor = connection.cursor()"
   ]
  },
  {
   "cell_type": "code",
   "execution_count": 9,
   "id": "2208801e",
   "metadata": {},
   "outputs": [
    {
     "data": {
      "text/plain": [
       "<sqlite3.Cursor at 0x1ea2f3939c0>"
      ]
     },
     "execution_count": 9,
     "metadata": {},
     "output_type": "execute_result"
    }
   ],
   "source": [
    "cursor.execute(table_creation_query)\n",
    "cursor.execute(table_creation_query2)\n",
    "cursor.execute(table_creation_query3)"
   ]
  },
  {
   "cell_type": "code",
   "execution_count": 10,
   "id": "6d8c059e",
   "metadata": {},
   "outputs": [],
   "source": [
    "\n",
    "insert_query = \"\"\"\n",
    "INSERT INTO employees (emp_id, first_name, last_name, email, hire_date, salary)\n",
    "VALUES (?, ?, ?, ?, ?, ?);\n",
    "\"\"\"\n",
    "\n",
    "\n",
    "insert_query_customers = \"\"\"\n",
    "INSERT INTO customers (customer_id, first_name, last_name, email, phone)\n",
    "VALUES (?, ?, ?, ?, ?);\n",
    "\"\"\"\n",
    "\n",
    "insert_query_orders = \"\"\"\n",
    "INSERT INTO orders (order_id, customer_id, order_date, amount)\n",
    "VALUES (?, ?, ?, ?);\n",
    "\"\"\""
   ]
  },
  {
   "cell_type": "code",
   "execution_count": 11,
   "id": "b5b2da43",
   "metadata": {},
   "outputs": [],
   "source": [
    "employee_data = [\n",
    "    (1, \"Sunny\", \"Savita\", \"sunny.sv@abc.com\", \"2023-06-01\", 50000.00),\n",
    "    (2, \"Arhun\", \"Meheta\", \"arhun.m@gmail.com\", \"2022-04-15\", 60000.00),\n",
    "    (3, \"Alice\", \"Johnson\", \"alice.johnson@jpg.com\", \"2021-09-30\", 55000.00),\n",
    "    (4, \"Bob\", \"Brown\", \"bob.brown@uio.com\", \"2020-01-20\", 45000.00)\n",
    "]\n",
    "\n",
    "customers_data = [\n",
    "    (1, \"John\", \"Doe\", \"john.doe@example.com\", \"1234567890\"),\n",
    "    (2, \"Jane\", \"Smith\", \"jane.smith@example.com\", \"9876543210\"),\n",
    "    (3, \"Emily\", \"Davis\", \"emily.davis@example.com\", \"4567891230\"),\n",
    "    (4, \"Michael\", \"Brown\", \"michael.brown@example.com\", \"7894561230\")\n",
    "]\n",
    "\n",
    "orders_data = [\n",
    "    (1, 1, \"2023-12-01\", 250.75),\n",
    "    (2, 2, \"2023-11-20\", 150.50),\n",
    "    (3, 3, \"2023-11-25\", 300.00),\n",
    "    (4, 4, \"2023-12-02\", 450.00)\n",
    "]"
   ]
  },
  {
   "cell_type": "code",
   "execution_count": 12,
   "id": "69050c0a",
   "metadata": {},
   "outputs": [
    {
     "data": {
      "text/plain": [
       "<sqlite3.Cursor at 0x1ea2f3939c0>"
      ]
     },
     "execution_count": 12,
     "metadata": {},
     "output_type": "execute_result"
    }
   ],
   "source": [
    "cursor.executemany(insert_query,employee_data)\n",
    "cursor.executemany(insert_query_customers,customers_data)\n",
    "cursor.executemany(insert_query_orders,orders_data)"
   ]
  },
  {
   "cell_type": "code",
   "execution_count": 13,
   "id": "7f0aea16",
   "metadata": {},
   "outputs": [],
   "source": [
    "connection.commit()"
   ]
  },
  {
   "cell_type": "code",
   "execution_count": null,
   "id": "9dc46964",
   "metadata": {},
   "outputs": [
    {
     "name": "stdout",
     "output_type": "stream",
     "text": [
      "(1, 'Sunny', 'Savita', 'sunny.sv@abc.com', '2023-06-01', 50000.0)\n",
      "(2, 'Arhun', 'Meheta', 'arhun.m@gmail.com', '2022-04-15', 60000.0)\n",
      "(3, 'Alice', 'Johnson', 'alice.johnson@jpg.com', '2021-09-30', 55000.0)\n",
      "(4, 'Bob', 'Brown', 'bob.brown@uio.com', '2020-01-20', 45000.0)\n",
      "(1, 'John', 'Doe', 'john.doe@example.com', '1234567890')\n",
      "(2, 'Jane', 'Smith', 'jane.smith@example.com', '9876543210')\n",
      "(3, 'Emily', 'Davis', 'emily.davis@example.com', '4567891230')\n",
      "(4, 'Michael', 'Brown', 'michael.brown@example.com', '7894561230')\n",
      "(1, 1, '2023-12-01', 250.75)\n",
      "(2, 2, '2023-11-20', 150.5)\n",
      "(3, 3, '2023-11-25', 300.0)\n",
      "(4, 4, '2023-12-02', 450.0)\n"
     ]
    }
   ],
   "source": [
    "print(\"Employee Data\\n\")\n",
    "data_e = cursor.execute(\"Select * from employees\")\n",
    "for row in cursor.fetchall():\n",
    "    print(row)\n",
    "print(\"\\n Custormer Data\\n\")\n",
    "data_c = cursor.execute(\"Select * from customers\")\n",
    "for row in cursor.fetchall():\n",
    "    print(row)\n",
    "print(\"\\nOrders Data\\n\")\n",
    "data_o = cursor.execute(\"Select * from orders\")\n",
    "for row in cursor.fetchall():\n",
    "    print(row)"
   ]
  },
  {
   "cell_type": "code",
   "execution_count": 16,
   "id": "63dbab2e",
   "metadata": {},
   "outputs": [
    {
     "data": {
      "text/plain": [
       "<sqlite3.Cursor at 0x1ea2f3939c0>"
      ]
     },
     "execution_count": 16,
     "metadata": {},
     "output_type": "execute_result"
    }
   ],
   "source": [
    "data_e"
   ]
  },
  {
   "cell_type": "code",
   "execution_count": null,
   "id": "60930624",
   "metadata": {},
   "outputs": [],
   "source": []
  }
 ],
 "metadata": {
  "kernelspec": {
   "display_name": "SQL_DataBase_Agent",
   "language": "python",
   "name": "python3"
  },
  "language_info": {
   "codemirror_mode": {
    "name": "ipython",
    "version": 3
   },
   "file_extension": ".py",
   "mimetype": "text/x-python",
   "name": "python",
   "nbconvert_exporter": "python",
   "pygments_lexer": "ipython3",
   "version": "3.13.4"
  }
 },
 "nbformat": 4,
 "nbformat_minor": 5
}

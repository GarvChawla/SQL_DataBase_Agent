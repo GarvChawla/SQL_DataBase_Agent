{
 "cells": [
  {
   "cell_type": "code",
   "execution_count": null,
   "id": "095aa549",
   "metadata": {},
   "outputs": [],
   "source": [
    "import sqlite3"
   ]
  },
  {
   "cell_type": "code",
   "execution_count": 3,
   "id": "efb325d6",
   "metadata": {},
   "outputs": [],
   "source": [
    "connection = sqlite3.connect(\"Agentic_AI.db\")"
   ]
  },
  {
   "cell_type": "code",
   "execution_count": 4,
   "id": "712e8001",
   "metadata": {},
   "outputs": [
    {
     "data": {
      "text/plain": [
       "<sqlite3.Connection at 0x1ea2f366020>"
      ]
     },
     "execution_count": 4,
     "metadata": {},
     "output_type": "execute_result"
    }
   ],
   "source": [
    "connection"
   ]
  },
  {
   "cell_type": "code",
   "execution_count": 5,
   "id": "0b653773",
   "metadata": {},
   "outputs": [],
   "source": [
    "\n",
    "table_creation_query=\"\"\"\n",
    "CREATE TABLE IF NOT EXISTS employees (\n",
    "    emp_id INTEGER PRIMARY KEY,\n",
    "    first_name TEXT NOT NULL,\n",
    "    last_name TEXT NOT NULL,\n",
    "    email TEXT UNIQUE NOT NULL,\n",
    "    hire_date TEXT NOT NULL,\n",
    "    salary REAL NOT NULL\n",
    ");\n",
    "\"\"\""
   ]
  },
  {
   "cell_type": "code",
   "execution_count": null,
   "id": "90d84a8b",
   "metadata": {},
   "outputs": [],
   "source": [
    "table_creation_query2=\"\"\"\n",
    "CREATE TABLE IF NOT EXISTS customers (\n",
    "    customer_id INTEGER PRIMARY KEY AUTOINCREMENT,\n",
    "    first_name TEXT NOT NULL,\n",
    "    last_name TEXT NOT NULL,\n",
    "    email TEXT UNIQUE NOT NULL,\n",
    "    phone TEXT\n",
    ");\n",
    "\"\"\"\n"
   ]
  },
  {
   "cell_type": "code",
   "execution_count": 7,
   "id": "133e1d33",
   "metadata": {},
   "outputs": [],
   "source": [
    "\n",
    "table_creation_query3=\"\"\"\n",
    "CREATE TABLE IF NOT EXISTS orders (\n",
    "    order_id INTEGER PRIMARY KEY AUTOINCREMENT,\n",
    "    customer_id INTEGER NOT NULL,\n",
    "    order_date TEXT NOT NULL,\n",
    "    amount REAL NOT NULL,\n",
    "    FOREIGN KEY (customer_id) REFERENCES customers (customer_id)\n",
    ");\n",
    "\"\"\""
   ]
  },
  {
   "cell_type": "code",
   "execution_count": 8,
   "id": "f855de77",
   "metadata": {},
   "outputs": [],
   "source": [
    "cursor = connection.cursor()"
   ]
  },
  {
   "cell_type": "code",
   "execution_count": 9,
   "id": "2208801e",
   "metadata": {},
   "outputs": [
    {
     "data": {
      "text/plain": [
       "<sqlite3.Cursor at 0x1ea2f3939c0>"
      ]
     },
     "execution_count": 9,
     "metadata": {},
     "output_type": "execute_result"
    }
   ],
   "source": [
    "cursor.execute(table_creation_query)\n",
    "cursor.execute(table_creation_query2)\n",
    "cursor.execute(table_creation_query3)"
   ]
  },
  {
   "cell_type": "code",
   "execution_count": 10,
   "id": "6d8c059e",
   "metadata": {},
   "outputs": [],
   "source": [
    "\n",
    "insert_query = \"\"\"\n",
    "INSERT INTO employees (emp_id, first_name, last_name, email, hire_date, salary)\n",
    "VALUES (?, ?, ?, ?, ?, ?);\n",
    "\"\"\"\n",
    "\n",
    "\n",
    "insert_query_customers = \"\"\"\n",
    "INSERT INTO customers (customer_id, first_name, last_name, email, phone)\n",
    "VALUES (?, ?, ?, ?, ?);\n",
    "\"\"\"\n",
    "\n",
    "insert_query_orders = \"\"\"\n",
    "INSERT INTO orders (order_id, customer_id, order_date, amount)\n",
    "VALUES (?, ?, ?, ?);\n",
    "\"\"\""
   ]
  },
  {
   "cell_type": "code",
   "execution_count": 11,
   "id": "b5b2da43",
   "metadata": {},
   "outputs": [],
   "source": [
    "employee_data = [\n",
    "    (1, \"Sunny\", \"Savita\", \"sunny.sv@abc.com\", \"2023-06-01\", 50000.00),\n",
    "    (2, \"Arhun\", \"Meheta\", \"arhun.m@gmail.com\", \"2022-04-15\", 60000.00),\n",
    "    (3, \"Alice\", \"Johnson\", \"alice.johnson@jpg.com\", \"2021-09-30\", 55000.00),\n",
    "    (4, \"Bob\", \"Brown\", \"bob.brown@uio.com\", \"2020-01-20\", 45000.00)\n",
    "]\n",
    "\n",
    "customers_data = [\n",
    "    (1, \"John\", \"Doe\", \"john.doe@example.com\", \"1234567890\"),\n",
    "    (2, \"Jane\", \"Smith\", \"jane.smith@example.com\", \"9876543210\"),\n",
    "    (3, \"Emily\", \"Davis\", \"emily.davis@example.com\", \"4567891230\"),\n",
    "    (4, \"Michael\", \"Brown\", \"michael.brown@example.com\", \"7894561230\")\n",
    "]\n",
    "\n",
    "orders_data = [\n",
    "    (1, 1, \"2023-12-01\", 250.75),\n",
    "    (2, 2, \"2023-11-20\", 150.50),\n",
    "    (3, 3, \"2023-11-25\", 300.00),\n",
    "    (4, 4, \"2023-12-02\", 450.00)\n",
    "]"
   ]
  },
  {
   "cell_type": "code",
   "execution_count": 12,
   "id": "69050c0a",
   "metadata": {},
   "outputs": [
    {
     "data": {
      "text/plain": [
       "<sqlite3.Cursor at 0x1ea2f3939c0>"
      ]
     },
     "execution_count": 12,
     "metadata": {},
     "output_type": "execute_result"
    }
   ],
   "source": [
    "cursor.executemany(insert_query,employee_data)\n",
    "cursor.executemany(insert_query_customers,customers_data)\n",
    "cursor.executemany(insert_query_orders,orders_data)"
   ]
  },
  {
   "cell_type": "code",
   "execution_count": 13,
   "id": "7f0aea16",
   "metadata": {},
   "outputs": [],
   "source": [
    "connection.commit()"
   ]
  },
  {
   "cell_type": "code",
   "execution_count": 18,
   "id": "9dc46964",
   "metadata": {},
   "outputs": [
    {
     "name": "stdout",
     "output_type": "stream",
     "text": [
      "Employee Data\n",
      "\n",
      "(1, 'Sunny', 'Savita', 'sunny.sv@abc.com', '2023-06-01', 50000.0)\n",
      "(2, 'Arhun', 'Meheta', 'arhun.m@gmail.com', '2022-04-15', 60000.0)\n",
      "(3, 'Alice', 'Johnson', 'alice.johnson@jpg.com', '2021-09-30', 55000.0)\n",
      "(4, 'Bob', 'Brown', 'bob.brown@uio.com', '2020-01-20', 45000.0)\n",
      "\n",
      " Custormer Data\n",
      "\n",
      "(1, 'John', 'Doe', 'john.doe@example.com', '1234567890')\n",
      "(2, 'Jane', 'Smith', 'jane.smith@example.com', '9876543210')\n",
      "(3, 'Emily', 'Davis', 'emily.davis@example.com', '4567891230')\n",
      "(4, 'Michael', 'Brown', 'michael.brown@example.com', '7894561230')\n",
      "\n",
      "Orders Data\n",
      "\n",
      "(1, 1, '2023-12-01', 250.75)\n",
      "(2, 2, '2023-11-20', 150.5)\n",
      "(3, 3, '2023-11-25', 300.0)\n",
      "(4, 4, '2023-12-02', 450.0)\n"
     ]
    }
   ],
   "source": [
    "print(\"Employee Data\\n\")\n",
    "data_e = cursor.execute(\"Select * from employees\")\n",
    "for row in cursor.fetchall():\n",
    "    print(row)\n",
    "print(\"\\n Custormer Data\\n\")\n",
    "data_c = cursor.execute(\"Select * from customers\")\n",
    "for row in cursor.fetchall():\n",
    "    print(row)\n",
    "print(\"\\nOrders Data\\n\")\n",
    "data_o = cursor.execute(\"Select * from orders\")\n",
    "for row in cursor.fetchall():\n",
    "    print(row)"
   ]
  },
  {
   "cell_type": "code",
   "execution_count": 19,
   "id": "63dbab2e",
   "metadata": {},
   "outputs": [],
   "source": [
    "from langchain_community.utilities import SQLDatabase"
   ]
  },
  {
   "cell_type": "code",
   "execution_count": 20,
   "id": "60930624",
   "metadata": {},
   "outputs": [],
   "source": [
    "db = SQLDatabase.from_uri(\"sqlite:///Agentic_AI.db\")"
   ]
  },
  {
   "cell_type": "code",
   "execution_count": 21,
   "id": "7065022a",
   "metadata": {},
   "outputs": [
    {
     "data": {
      "text/plain": [
       "<langchain_community.utilities.sql_database.SQLDatabase at 0x1ea30bf2270>"
      ]
     },
     "execution_count": 21,
     "metadata": {},
     "output_type": "execute_result"
    }
   ],
   "source": [
    "db"
   ]
  },
  {
   "cell_type": "code",
   "execution_count": 22,
   "id": "84641965",
   "metadata": {},
   "outputs": [
    {
     "data": {
      "text/plain": [
       "'sqlite'"
      ]
     },
     "execution_count": 22,
     "metadata": {},
     "output_type": "execute_result"
    }
   ],
   "source": [
    "db.dialect"
   ]
  },
  {
   "cell_type": "code",
   "execution_count": 24,
   "id": "b20ece26",
   "metadata": {},
   "outputs": [
    {
     "data": {
      "text/plain": [
       "['customers', 'employees', 'orders']"
      ]
     },
     "execution_count": 24,
     "metadata": {},
     "output_type": "execute_result"
    }
   ],
   "source": [
    "db.get_usable_table_names()"
   ]
  },
  {
   "cell_type": "code",
   "execution_count": 27,
   "id": "06b442c5",
   "metadata": {},
   "outputs": [
    {
     "data": {
      "text/plain": [
       "True"
      ]
     },
     "execution_count": 27,
     "metadata": {},
     "output_type": "execute_result"
    }
   ],
   "source": [
    "import os\n",
    "from dotenv import load_dotenv\n",
    "load_dotenv()"
   ]
  },
  {
   "cell_type": "code",
   "execution_count": 28,
   "id": "c5869aa0",
   "metadata": {},
   "outputs": [],
   "source": [
    "from langchain_groq import ChatGroq\n",
    "llm = ChatGroq(model=\"llama3-70b-8192\")"
   ]
  },
  {
   "cell_type": "code",
   "execution_count": 29,
   "id": "61657fd7",
   "metadata": {},
   "outputs": [
    {
     "data": {
      "text/plain": [
       "AIMessage(content=\"Narendra Damodardas Modi is the 14th and current Prime Minister of India, serving since 2014. He is a member of the Bharatiya Janata Party (BJP) and the Rashtriya Swayamsevak Sangh (RSS), a Hindu nationalist organization.\\n\\nEarly Life and Career:\\n\\nModi was born on September 17, 1950, in Vadnagar, Gujarat, India. He grew up in a lower-middle-class family and was the third of six children. He completed his Bachelor's degree in Political Science from the University of Delhi and later earned a Master's degree in Political Science from Gujarat University.\\n\\nModi joined the RSS in his teenage years and rose through the ranks, eventually becoming a full-time pracharak (worker) in 1972. He worked in various capacities within the RSS and BJP, including as a party organizer and strategist.\\n\\nModi's entry into electoral politics began in 1987, when he became the BJP's organizational secretary in Gujarat. He played a key role in the BJP's election campaigns in Gujarat and eventually became the Chief Minister of Gujarat in 2001, a position he held until 2014.\\n\\nAs Chief Minister of Gujarat:\\n\\nDuring his tenure as Chief Minister, Modi implemented several reforms and policies that transformed the state's economy and infrastructure. Some of his notable achievements include:\\n\\n1. Economic growth: Gujarat's economy grew at an average rate of 10% per annum, making it one of the fastest-growing states in India.\\n2. Infrastructure development: Modi invested heavily in infrastructure development, including roads, ports, and industries, which attracted significant investments and created jobs.\\n3. Rural development: He launched several initiatives to improve rural development, including the Jyotigram Yojana, which aimed to provide electricity to rural areas.\\n\\nHowever, Modi's tenure was also marked by controversy, particularly the 2002 Gujarat riots, which resulted in the deaths of over 1,000 people, mostly Muslims. Modi was criticized for his handling of the situation, and some alleged that he did not do enough to prevent the violence.\\n\\nPrime Minister of India:\\n\\nIn 2014, Modi led the BJP to a landslide victory in the Indian general election, winning 282 out of 543 seats in the Lok Sabha (Lower House of Parliament). He took oath as the Prime Minister of India on May 26, 2014.\\n\\nAs Prime Minister, Modi has implemented several significant policies and initiatives, including:\\n\\n1. Demonetization: In 2016, Modi announced the demonetization of high-denomination currency notes, aiming to curb black money and corruption.\\n2. Goods and Services Tax (GST): Modi introduced the GST in 2017, a comprehensive tax reform that aimed to simplify the tax system and promote economic growth.\\n3. Swachh Bharat Abhiyan: Modi launched the Swachh Bharat Abhiyan, a nationwide cleanliness campaign, in 2014.\\n4. Make in India: Modi launched the Make in India initiative in 2014, aiming to promote domestic manufacturing and attract foreign investment.\\n\\nModi's second term as Prime Minister began in 2019, after the BJP won a majority in the general election. During his second term, Modi has faced criticism for his government's handling of issues such as the COVID-19 pandemic, economic slowdown, and communal tensions.\\n\\nControversies and Criticisms:\\n\\nModi has faced criticism and controversy throughout his political career. Some of the notable criticisms include:\\n\\n1. Hindu nationalism: Modi has been accused of promoting Hindu nationalism and majoritarianism, which has led to communal tensions and violence.\\n2. Human rights: Modi has faced criticism for his government's handling of human rights issues, including the detention of political activists and journalists.\\n3. Economic policies: Modi's economic policies, including demonetization and GST, have been criticized for their impact on small businesses and the informal sector.\\n\\nDespite these criticisms, Modi remains a popular figure in Indian politics, known for his charismatic leadership and oratory skills.\", additional_kwargs={}, response_metadata={'token_usage': {'completion_tokens': 823, 'prompt_tokens': 15, 'total_tokens': 838, 'completion_time': 2.994450114, 'prompt_time': 0.000181267, 'queue_time': 0.270851014, 'total_time': 2.994631381}, 'model_name': 'llama3-70b-8192', 'system_fingerprint': 'fp_bf16903a67', 'service_tier': 'on_demand', 'finish_reason': 'stop', 'logprobs': None}, id='run--8af54bdb-ddc9-47a3-8bb3-d814b4f22688-0', usage_metadata={'input_tokens': 15, 'output_tokens': 823, 'total_tokens': 838})"
      ]
     },
     "execution_count": 29,
     "metadata": {},
     "output_type": "execute_result"
    }
   ],
   "source": [
    "llm.invoke(\"Who is Narendra Modi?\")"
   ]
  },
  {
   "cell_type": "code",
   "execution_count": 30,
   "id": "ceaa264b",
   "metadata": {},
   "outputs": [],
   "source": [
    "from langchain_community.agent_toolkits import SQLDatabaseToolkit"
   ]
  },
  {
   "cell_type": "code",
   "execution_count": 32,
   "id": "d7031db7",
   "metadata": {},
   "outputs": [],
   "source": [
    "toolkit = SQLDatabaseToolkit(db=db, llm=llm)"
   ]
  },
  {
   "cell_type": "code",
   "execution_count": 34,
   "id": "f56186b1",
   "metadata": {},
   "outputs": [],
   "source": [
    "tools = toolkit.get_tools()"
   ]
  },
  {
   "cell_type": "code",
   "execution_count": 35,
   "id": "8dd777f7",
   "metadata": {},
   "outputs": [
    {
     "name": "stdout",
     "output_type": "stream",
     "text": [
      "sql_db_query\n",
      "sql_db_schema\n",
      "sql_db_list_tables\n",
      "sql_db_query_checker\n"
     ]
    }
   ],
   "source": [
    "for tool in tools:\n",
    "    print(tool.name)"
   ]
  },
  {
   "cell_type": "code",
   "execution_count": 37,
   "id": "bd2bd511",
   "metadata": {},
   "outputs": [],
   "source": [
    "list_tables_tool = next((tool for tool in tools if tool.name==\"sql_db_list_tables\"))\n",
    "get_schema_tool = next((tool for tool in tools if tool.name==\"sql_db_schema\"))"
   ]
  },
  {
   "cell_type": "code",
   "execution_count": 45,
   "id": "8170d2d8",
   "metadata": {},
   "outputs": [
    {
     "data": {
      "text/plain": [
       "'customers, employees, orders'"
      ]
     },
     "execution_count": 45,
     "metadata": {},
     "output_type": "execute_result"
    }
   ],
   "source": [
    "list_tables_tool.invoke(\"\")"
   ]
  },
  {
   "cell_type": "code",
   "execution_count": 55,
   "id": "087882cb",
   "metadata": {},
   "outputs": [
    {
     "name": "stdout",
     "output_type": "stream",
     "text": [
      "\n",
      "CREATE TABLE employees (\n",
      "\temp_id INTEGER, \n",
      "\tfirst_name TEXT NOT NULL, \n",
      "\tlast_name TEXT NOT NULL, \n",
      "\temail TEXT NOT NULL, \n",
      "\thire_date TEXT NOT NULL, \n",
      "\tsalary REAL NOT NULL, \n",
      "\tPRIMARY KEY (emp_id), \n",
      "\tUNIQUE (email)\n",
      ")\n",
      "\n",
      "/*\n",
      "3 rows from employees table:\n",
      "emp_id\tfirst_name\tlast_name\temail\thire_date\tsalary\n",
      "1\tSunny\tSavita\tsunny.sv@abc.com\t2023-06-01\t50000.0\n",
      "2\tArhun\tMeheta\tarhun.m@gmail.com\t2022-04-15\t60000.0\n",
      "3\tAlice\tJohnson\talice.johnson@jpg.com\t2021-09-30\t55000.0\n",
      "*/\n"
     ]
    }
   ],
   "source": [
    "print(get_schema_tool.invoke(\"employees\"))"
   ]
  },
  {
   "cell_type": "code",
   "execution_count": 50,
   "id": "4553f824",
   "metadata": {},
   "outputs": [],
   "source": [
    "from langchain_core.tools import tool\n",
    "@tool\n",
    "def db_query_tool(query:str)->str:\n",
    "    \"\"\"\n",
    "    Execute a SQL query against the database and return the result.\n",
    "    If the query is invalid or returns no result, an error message will be returned.\n",
    "    In case of an error, the user is advised to rewrite the query and try again.\n",
    "    \"\"\"\n",
    "    result=db.run_no_throw(query)\n",
    "    if not result:\n",
    "        return \"Error: Query failed. Please rewrite your query and try again.\"\n",
    "    return result"
   ]
  },
  {
   "cell_type": "code",
   "execution_count": 61,
   "id": "a724cfaf",
   "metadata": {},
   "outputs": [
    {
     "data": {
      "text/plain": [
       "\"[(1, 'Sunny', 'Savita', 'sunny.sv@abc.com', '2023-06-01', 50000.0), (2, 'Arhun', 'Meheta', 'arhun.m@gmail.com', '2022-04-15', 60000.0), (3, 'Alice', 'Johnson', 'alice.johnson@jpg.com', '2021-09-30', 55000.0), (4, 'Bob', 'Brown', 'bob.brown@uio.com', '2020-01-20', 45000.0)]\""
      ]
     },
     "execution_count": 61,
     "metadata": {},
     "output_type": "execute_result"
    }
   ],
   "source": [
    "db.run(\"Select * from employees\")"
   ]
  },
  {
   "cell_type": "code",
   "execution_count": 60,
   "id": "b22cba93",
   "metadata": {},
   "outputs": [
    {
     "data": {
      "text/plain": [
       "\"[(1, 'Sunny', 'Savita', 'sunny.sv@abc.com', '2023-06-01', 50000.0), (2, 'Arhun', 'Meheta', 'arhun.m@gmail.com', '2022-04-15', 60000.0), (3, 'Alice', 'Johnson', 'alice.johnson@jpg.com', '2021-09-30', 55000.0), (4, 'Bob', 'Brown', 'bob.brown@uio.com', '2020-01-20', 45000.0)]\""
      ]
     },
     "execution_count": 60,
     "metadata": {},
     "output_type": "execute_result"
    }
   ],
   "source": [
    "db_query_tool.invoke(\"Select * from employees\")"
   ]
  },
  {
   "cell_type": "code",
   "execution_count": 65,
   "id": "3dfb5c94",
   "metadata": {},
   "outputs": [],
   "source": [
    "llm_with_tools=llm.bind_tools([db_query_tool])"
   ]
  },
  {
   "cell_type": "code",
   "execution_count": 63,
   "id": "5420377b",
   "metadata": {},
   "outputs": [],
   "source": [
    "import warnings\n",
    "# Suppress all warnings\n",
    "warnings.filterwarnings(\"ignore\")"
   ]
  },
  {
   "cell_type": "code",
   "execution_count": 64,
   "id": "bfe60009",
   "metadata": {},
   "outputs": [],
   "source": [
    "\n",
    "from typing import Annotated, Literal\n",
    "from langchain_core.messages import AIMessage\n",
    "from langchain_core.pydantic_v1 import BaseModel, Field\n",
    "from typing_extensions import TypedDict\n",
    "from langgraph.graph import END, StateGraph, START\n",
    "from langgraph.graph.message import AnyMessage, add_messages\n",
    "from typing import Any\n",
    "from langchain_core.messages import ToolMessage\n",
    "from langchain_core.runnables import RunnableLambda, RunnableWithFallbacks\n",
    "from langgraph.prebuilt import ToolNode"
   ]
  },
  {
   "cell_type": "code",
   "execution_count": 68,
   "id": "356f9bfd",
   "metadata": {},
   "outputs": [],
   "source": [
    "\n",
    "from langchain_core.prompts import ChatPromptTemplate\n",
    "\n",
    "query_check_system = \"\"\"You are a SQL expert. Carefully review the SQL query for common mistakes, including:\n",
    "\n",
    "Issues with NULL handling (e.g., NOT IN with NULLs)\n",
    "Improper use of UNION instead of UNION ALL\n",
    "Incorrect use of BETWEEN for exclusive ranges\n",
    "Data type mismatches or incorrect casting\n",
    "Quoting identifiers improperly\n",
    "Incorrect number of arguments in functions\n",
    "Errors in JOIN conditions\n",
    "\n",
    "If you find any mistakes, rewrite the query to fix them. If it's correct, reproduce it as is.\"\"\"\n",
    "\n",
    "query_check_prompt = ChatPromptTemplate.from_messages([(\"system\", query_check_system), (\"placeholder\", \"{messages}\")])\n",
    "\n",
    "check_generated_query = query_check_prompt | llm_with_tools"
   ]
  },
  {
   "cell_type": "code",
   "execution_count": 80,
   "id": "00999106",
   "metadata": {},
   "outputs": [
    {
     "data": {
      "text/plain": [
       "AIMessage(content='I see a mistake in the SQL query. The correct syntax should be `SELECT * FROM employees`. \\n\\nThe `*/` is not a valid SQL syntax. The `*` is a wildcard character that selects all columns from the table, and it should be used alone, not with a forward slash `/`.\\n\\nHere is the corrected query:\\n\\n```\\n', additional_kwargs={'tool_calls': [{'id': 'n9t46r6zd', 'function': {'arguments': '{\"query\":\"SELECT * FROM employees\"}', 'name': 'db_query_tool'}, 'type': 'function'}]}, response_metadata={'token_usage': {'completion_tokens': 141, 'prompt_tokens': 1022, 'total_tokens': 1163, 'completion_time': 0.555844199, 'prompt_time': 0.033168563, 'queue_time': 0.284757717, 'total_time': 0.589012762}, 'model_name': 'llama3-70b-8192', 'system_fingerprint': 'fp_bf16903a67', 'service_tier': 'on_demand', 'finish_reason': 'tool_calls', 'logprobs': None}, id='run--16b71b27-5deb-4930-bdfb-3acc7a4042df-0', tool_calls=[{'name': 'db_query_tool', 'args': {'query': 'SELECT * FROM employees'}, 'id': 'n9t46r6zd', 'type': 'tool_call'}], usage_metadata={'input_tokens': 1022, 'output_tokens': 141, 'total_tokens': 1163})"
      ]
     },
     "execution_count": 80,
     "metadata": {},
     "output_type": "execute_result"
    }
   ],
   "source": [
    "check_generated_query.invoke({\"messages\":[(\"user\",\"SELECT */* from employees\")]})"
   ]
  },
  {
   "cell_type": "code",
   "execution_count": 82,
   "id": "0858192d",
   "metadata": {},
   "outputs": [],
   "source": [
    "\n",
    "class SubmitFinalAnswer(BaseModel):\n",
    "    \"\"\"Submit the final answer to the user based on the query results.\"\"\"\n",
    "    final_answer: str = Field(..., description=\"The final answer to the user\")\n",
    "    \n",
    "llm_with_final_answer=llm.bind_tools([SubmitFinalAnswer])"
   ]
  },
  {
   "cell_type": "code",
   "execution_count": 83,
   "id": "27349e26",
   "metadata": {},
   "outputs": [],
   "source": [
    "\n",
    "# Add a node for a model to generate a query based on the question and schema\n",
    "query_gen_system_prompt = \"\"\"You are a SQL expert with a strong attention to detail.Given an input question, output a syntactically correct SQLite query to run, then look at the results of the query and return the answer.\n",
    "\n",
    "1. DO NOT call any tool besides SubmitFinalAnswer to submit the final answer. When generating the query:\n",
    "\n",
    "2. Output the SQL query that answers the input question without a tool call.\n",
    "\n",
    "3. Unless the user specifies a specific number of examples they wish to obtain, always limit your query to at most 5 results.\n",
    "\n",
    "4. You can order the results by a relevant column to return the most interesting examples in the database.\n",
    "\n",
    "5. Never query for all the columns from a specific table, only ask for the relevant columns given the question.\n",
    "\n",
    "6. If you get an error while executing a query, rewrite the query and try again.\n",
    "\n",
    "7. If you get an empty result set, you should try to rewrite the query to get a non-empty result set.\n",
    "\n",
    "8. NEVER make stuff up if you don't have enough information to answer the query... just say you don't have enough information.\n",
    "\n",
    "9. If you have enough information to answer the input question, simply invoke the appropriate tool to submit the final answer to the user.\n",
    "\n",
    "10. DO NOT make any DML statements (INSERT, UPDATE, DELETE, DROP etc.) to the database. Do not return any sql query except answer.\n",
    "\n",
    "11. rewrite this promote with very simple english and little shorter manner also \"\"\"\n",
    "\n",
    "query_gen_prompt = ChatPromptTemplate.from_messages([(\"system\", query_gen_system_prompt), (\"placeholder\", \"{messages}\")])\n",
    "\n",
    "query_generator = query_gen_prompt | llm_with_final_answer"
   ]
  },
  {
   "cell_type": "code",
   "execution_count": 84,
   "id": "1cb0c923",
   "metadata": {},
   "outputs": [],
   "source": [
    "class State(TypedDict):\n",
    "    messages:Annotated[list[AnyMessage],add_messages]"
   ]
  },
  {
   "cell_type": "code",
   "execution_count": 85,
   "id": "8d91c235",
   "metadata": {},
   "outputs": [],
   "source": [
    "def first_tool_call(State:State):\n",
    "    pass"
   ]
  },
  {
   "cell_type": "code",
   "execution_count": 94,
   "id": "804b2aa0",
   "metadata": {},
   "outputs": [],
   "source": [
    "def handle_tool_error(state:State):\n",
    "    error = state.get(\"error\") \n",
    "    tool_calls = state[\"messages\"][-1].tool_calls\n",
    "    return { \"messages\": [ ToolMessage(content=f\"Error: {repr(error)}\\n please fix your mistakes.\",tool_call_id=tc[\"id\"],) for tc in tool_calls ] }"
   ]
  },
  {
   "cell_type": "code",
   "execution_count": 87,
   "id": "43cc1843",
   "metadata": {},
   "outputs": [],
   "source": [
    "def create_tool_node_with_fallback(tools:list)->RunnableWithFallbacks[any,dict]:\n",
    "    pass"
   ]
  },
  {
   "cell_type": "code",
   "execution_count": null,
   "id": "31b60133",
   "metadata": {},
   "outputs": [],
   "source": [
    "def query_gen_node(state:State):\n",
    "    message = query_generator.invoke(state)\n",
    "\n",
    "    # Sometimes, the LLM will hallucinate and call the wrong tool. We need to catch this and return an error message.\n",
    "    tool_messages = []\n",
    "    if message.tool_calls:\n",
    "        for tc in message.tool_calls:\n",
    "            if tc[\"name\"] != \"SubmitFinalAnswer\":\n",
    "                tool_messages.append(\n",
    "                    ToolMessage(\n",
    "                        content=f\"Error: The wrong tool was called: {tc['name']}. Please fix your mistakes. Remember to only call SubmitFinalAnswer to submit the final answer. Generated queries should be outputted WITHOUT a tool call.\",\n",
    "                        tool_call_id=tc[\"id\"],\n",
    "                    )\n",
    "                )\n",
    "    else:\n",
    "        tool_messages = []\n",
    "    return {\"messages\": [message] + tool_messages}"
   ]
  },
  {
   "cell_type": "code",
   "execution_count": 89,
   "id": "e89f985f",
   "metadata": {},
   "outputs": [],
   "source": [
    "def should_continue(state:State):\n",
    "    pass"
   ]
  },
  {
   "cell_type": "code",
   "execution_count": 90,
   "id": "19e823dd",
   "metadata": {},
   "outputs": [],
   "source": [
    "def model_check_query(state:State):\n",
    "    pass"
   ]
  },
  {
   "cell_type": "code",
   "execution_count": 91,
   "id": "b27bc769",
   "metadata": {},
   "outputs": [],
   "source": [
    "workflow = StateGraph(State)"
   ]
  },
  {
   "cell_type": "code",
   "execution_count": null,
   "id": "e4c08e7d",
   "metadata": {},
   "outputs": [],
   "source": [
    "workflow = StateGraph(State)\n",
    "workflow.add_node(\"first_tool_call\",first_tool_call)\n",
    "workflow.add_node(\"list_tables_tool\", list_tables)\n",
    "workflow.add_node(\"get_schema_tool\", get_schema)\n",
    "workflow.add_node(\"model_get_schema\", llm_get_schema)\n",
    "workflow.add_node(\"query_gen\", generation_query)\n",
    "workflow.add_node(\"correct_query\", check_the_given_query)\n",
    "workflow.add_node(\"execute_query\", query_database)\n"
   ]
  },
  {
   "cell_type": "code",
   "execution_count": 92,
   "id": "3feb658c",
   "metadata": {},
   "outputs": [
    {
     "data": {
      "text/plain": [
       "<langgraph.graph.state.StateGraph at 0x1ea332ab230>"
      ]
     },
     "execution_count": 92,
     "metadata": {},
     "output_type": "execute_result"
    }
   ],
   "source": [
    "\n",
    "workflow.add_edge(START, \"first_tool_call\")\n",
    "workflow.add_edge(\"first_tool_call\", \"list_tables_tool\")\n",
    "workflow.add_edge(\"list_tables_tool\", \"model_get_schema\")\n",
    "workflow.add_edge(\"model_get_schema\", \"get_schema_tool\")\n",
    "workflow.add_edge(\"get_schema_tool\", \"query_gen\")\n",
    "workflow.add_conditional_edges(\"query_gen\",should_continue,\n",
    "                            {END:END,\n",
    "                            \"correct_query\":\"correct_query\"})\n",
    "workflow.add_edge(\"correct_query\", \"execute_query\")\n",
    "workflow.add_edge(\"execute_query\", \"query_gen\")"
   ]
  },
  {
   "cell_type": "code",
   "execution_count": null,
   "id": "e38f1540",
   "metadata": {},
   "outputs": [],
   "source": [
    "app=workflow.compile()"
   ]
  },
  {
   "cell_type": "code",
   "execution_count": null,
   "id": "c2b0de81",
   "metadata": {},
   "outputs": [],
   "source": [
    "from IPython.display import Image, display\n",
    "from langchain_core.runnables.graph import MermaidDrawMethod\n",
    "\n",
    "display(\n",
    "    Image(\n",
    "        app.get_graph().draw_mermaid_png(\n",
    "            draw_method=MermaidDrawMethod.API,\n",
    "        )\n",
    "    )\n",
    ")"
   ]
  },
  {
   "cell_type": "code",
   "execution_count": null,
   "id": "93fac633",
   "metadata": {},
   "outputs": [],
   "source": [
    "app.invoke()"
   ]
  }
 ],
 "metadata": {
  "kernelspec": {
   "display_name": "SQL_DataBase_Agent",
   "language": "python",
   "name": "python3"
  },
  "language_info": {
   "codemirror_mode": {
    "name": "ipython",
    "version": 3
   },
   "file_extension": ".py",
   "mimetype": "text/x-python",
   "name": "python",
   "nbconvert_exporter": "python",
   "pygments_lexer": "ipython3",
   "version": "3.13.4"
  }
 },
 "nbformat": 4,
 "nbformat_minor": 5
}
